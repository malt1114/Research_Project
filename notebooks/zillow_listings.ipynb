{
 "cells": [
  {
   "cell_type": "code",
   "execution_count": 13,
   "metadata": {},
   "outputs": [],
   "source": [
    "import requests\n",
    "import pandas as pd\n"
   ]
  },
  {
   "cell_type": "code",
   "execution_count": 14,
   "metadata": {},
   "outputs": [],
   "source": [
    "def get_listings(api_key, listing_url):\n",
    "    url = \"https://app.scrapeak.com/v1/scrapers/zillow/listing\"\n",
    "\n",
    "    querystring = {\n",
    "        \"api_key\": api_key,\n",
    "        \"url\":listing_url\n",
    "    }\n",
    "\n",
    "    return requests.request(\"GET\", url, params=querystring)\n",
    "\n",
    "def get_property_detail(api_key, zpid):\n",
    "    url = \"https://app.scrapeak.com/v1/scrapers/zillow/property\"\n",
    "\n",
    "    querystring = {\n",
    "        \"api_key\": api_key,\n",
    "        \"zpid\":zpid\n",
    "    }\n",
    "\n",
    "    return requests.request(\"GET\", url, params=querystring)\n",
    "\n",
    "def get_zpid(api_key, street, city, state, zip_code=None):\n",
    "    url = \"https://app.scrapeak.com/v1/scrapers/zillow/zpidByAddress\"\n",
    "\n",
    "    querystring = {\n",
    "        \"api_key\": api_key,\n",
    "        \"street\": street,\n",
    "        \"city\": city,\n",
    "        \"state\": state,\n",
    "        \"zip_code\":zip_code\n",
    "    }\n",
    "\n",
    "    return requests.request(\"GET\", url, params=querystring)"
   ]
  },
  {
   "cell_type": "code",
   "execution_count": 15,
   "metadata": {},
   "outputs": [],
   "source": [
    "api_key = '24641bfa-d070-4760-bab8-d7ff780b5be1'"
   ]
  },
  {
   "cell_type": "code",
   "execution_count": 16,
   "metadata": {},
   "outputs": [],
   "source": [
    "# zillow search url\n",
    "vancouver_url = \"https://www.zillow.com/vancouver-wa/?searchQueryState=%7B%22pagination%22%3A%7B%7D%2C%22isMapVisible%22%3Atrue%2C%22mapBounds%22%3A%7B%22west%22%3A-122.80659746728517%2C%22east%22%3A-122.36096453271486%2C%22south%22%3A45.44991356028914%2C%22north%22%3A45.90519846941485%7D%2C%22usersSearchTerm%22%3A%22Vancouver%20WA%22%2C%22regionSelection%22%3A%5B%7B%22regionId%22%3A48215%2C%22regionType%22%3A6%7D%5D%2C%22filterState%22%3A%7B%22sort%22%3A%7B%22value%22%3A%22globalrelevanceex%22%7D%2C%22ah%22%3A%7B%22value%22%3Atrue%7D%2C%22price%22%3A%7B%22min%22%3A50000%7D%2C%22mp%22%3A%7B%22min%22%3A228%7D%7D%2C%22isListVisible%22%3Atrue%2C%22mapZoom%22%3A11%7D\"\n",
    "portland_url = 'https://www.zillow.com/portland-or/?searchQueryState=%7B%22isMapVisible%22%3Atrue%2C%22mapBounds%22%3A%7B%22north%22%3A46.009839082522%2C%22south%22%3A45.09727585412813%2C%22east%22%3A-122.25006106542969%2C%22west%22%3A-123.14132693457032%7D%2C%22usersSearchTerm%22%3A%22Portland%2C%20OR%22%2C%22filterState%22%3A%7B%22sort%22%3A%7B%22value%22%3A%22globalrelevanceex%22%7D%2C%22ah%22%3A%7B%22value%22%3Atrue%7D%2C%22price%22%3A%7B%22min%22%3A50000%7D%2C%22mp%22%3A%7B%22min%22%3A228%7D%7D%2C%22isListVisible%22%3Atrue%2C%22regionSelection%22%3A%5B%7B%22regionId%22%3A13373%2C%22regionType%22%3A6%7D%5D%2C%22pagination%22%3A%7B%7D%7D'\n",
    "NYC_url = 'https://www.zillow.com/new-york-ny/?searchQueryState=%7B%22isMapVisible%22%3Atrue%2C%22mapBounds%22%3A%7B%22north%22%3A41.190054548356215%2C%22south%22%3A40.20198488923009%2C%22east%22%3A-73.53404806542972%2C%22west%22%3A-74.42531393457034%7D%2C%22usersSearchTerm%22%3A%22New%20York%2C%20NY%22%2C%22filterState%22%3A%7B%22sort%22%3A%7B%22value%22%3A%22globalrelevanceex%22%7D%2C%22ah%22%3A%7B%22value%22%3Atrue%7D%2C%22price%22%3A%7B%22min%22%3A50000%7D%2C%22mp%22%3A%7B%22min%22%3A228%7D%7D%2C%22isListVisible%22%3Atrue%2C%22regionSelection%22%3A%5B%7B%22regionId%22%3A6181%2C%22regionType%22%3A6%7D%5D%2C%22pagination%22%3A%7B%7D%7D'\n",
    "dc_url = 'https://www.zillow.com/washington-dc/?searchQueryState=%7B%22isMapVisible%22%3Atrue%2C%22mapBounds%22%3A%7B%22north%22%3A39.02034874536642%2C%22south%22%3A38.76676425076311%2C%22east%22%3A-76.90316776635741%2C%22west%22%3A-77.12598423364257%7D%2C%22usersSearchTerm%22%3A%22Washington%2C%20DC%22%2C%22filterState%22%3A%7B%22sort%22%3A%7B%22value%22%3A%22globalrelevanceex%22%7D%2C%22ah%22%3A%7B%22value%22%3Atrue%7D%2C%22price%22%3A%7B%22min%22%3A50000%7D%2C%22mp%22%3A%7B%22min%22%3A228%7D%7D%2C%22isListVisible%22%3Atrue%2C%22mapZoom%22%3A12%2C%22regionSelection%22%3A%5B%7B%22regionId%22%3A41568%2C%22regionType%22%3A6%7D%5D%2C%22pagination%22%3A%7B%7D%7D'\n",
    "\n",
    "\n",
    "# get listings\n",
    "vancouver_listing = get_listings(api_key, vancouver_url)\n",
    "portland_listing = get_listings(api_key, portland_url)\n",
    "NYC_listing = get_listings(api_key, NYC_url)\n",
    "dc_listing = get_listings(api_key, dc_url)\n"
   ]
  },
  {
   "cell_type": "code",
   "execution_count": 17,
   "metadata": {},
   "outputs": [],
   "source": [
    "portland = pd.json_normalize(portland_listing.json()[\"data\"][\"cat1\"][\"searchResults\"][\"mapResults\"])\n",
    "vancouver = pd.json_normalize(vancouver_listing.json()[\"data\"][\"cat1\"][\"searchResults\"][\"mapResults\"])\n",
    "nyc = pd.json_normalize(NYC_listing.json()[\"data\"][\"cat1\"][\"searchResults\"][\"mapResults\"])\n",
    "dc = pd.json_normalize(dc_listing.json()[\"data\"][\"cat1\"][\"searchResults\"][\"mapResults\"])"
   ]
  },
  {
   "cell_type": "code",
   "execution_count": 21,
   "metadata": {},
   "outputs": [],
   "source": [
    "listings_all = pd.concat([portland, vancouver, nyc, dc], axis=0)"
   ]
  },
  {
   "cell_type": "code",
   "execution_count": 23,
   "metadata": {},
   "outputs": [],
   "source": [
    "listings_all.to_csv('../data/listings_NA.csv', index=False)"
   ]
  }
 ],
 "metadata": {
  "kernelspec": {
   "display_name": ".venv",
   "language": "python",
   "name": "python3"
  },
  "language_info": {
   "codemirror_mode": {
    "name": "ipython",
    "version": 3
   },
   "file_extension": ".py",
   "mimetype": "text/x-python",
   "name": "python",
   "nbconvert_exporter": "python",
   "pygments_lexer": "ipython3",
   "version": "3.10.2"
  }
 },
 "nbformat": 4,
 "nbformat_minor": 2
}
