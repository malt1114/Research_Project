{
 "cells": [
  {
   "cell_type": "code",
   "execution_count": null,
   "metadata": {},
   "outputs": [],
   "source": [
    "import pandas as pd, networkx as nx, sys, os, numpy as np\n",
    "import nbimporter\n",
    "sys.path.append('scripts')\n",
    "from mappy_stuff import *\n",
    "import geopandas as gpd\n",
    "import seaborn as sns\n",
    "import collections\n",
    "import matplotlib.pyplot as plt"
   ]
  },
  {
   "cell_type": "code",
   "execution_count": null,
   "metadata": {},
   "outputs": [],
   "source": [
    "city_dict = {city : None for city in ['bergen', 'trondheim', 'oslo', 'portland', 'washington']}\n",
    "for i in city_dict:\n",
    "    stations, amenities = load_city_amenities_and_bike_stations(i)\n",
    "    city_dict[i] = CityLineGraph(i)\n",
    "    city_dict[i].read_graph()\n",
    "    city_dict[i].feats = city_dict[i].feats.drop(columns = ['from', 'to'])\n",
    "    ### limit lg to be biggest connected component\n",
    "    G = city_dict[i].lg\n",
    "    Gcc = sorted(nx.connected_components(G), key=len, reverse=True)\n",
    "    G0 = G.subgraph(Gcc[0])\n",
    "    city_dict[i].lg = nx.Graph(G0)"
   ]
  },
  {
   "cell_type": "code",
   "execution_count": null,
   "metadata": {},
   "outputs": [],
   "source": [
    "common_df = pd.DataFrame()\n",
    "\n",
    "for city in city_dict:\n",
    "    tmp = city_dict[city].feats.astype(bool).drop(columns = ['population', 'price_per_sqm', 'station', 'station_id'])\n",
    "    tmp['sum'] = tmp.sum(axis = 1)\n",
    "    tmp['city'] = city\n",
    "    tmp['city'] = tmp['city'].str.capitalize()\n",
    "    tmp = tmp[['city', 'sum']]\n",
    "    common_df = pd.concat([common_df, tmp])\n",
    "common_df = common_df.sort_values(by = 'city', ascending = True)\n",
    "\n",
    "common_df = common_df.reset_index(drop = True)\n",
    "common_df.columns = [i.capitalize() for i in common_df.columns]"
   ]
  },
  {
   "cell_type": "code",
   "execution_count": null,
   "metadata": {},
   "outputs": [],
   "source": [
    "city_color_map = {'Bergen' : 'blue', 'Trondheim' : 'red', 'Oslo' : 'green', 'Portland' : 'purple', 'Washington' : 'orange'}"
   ]
  },
  {
   "cell_type": "code",
   "execution_count": null,
   "metadata": {},
   "outputs": [],
   "source": [
    "g = sns.histplot(data = common_df.query('11 > Sum'), x = 'Sum', hue = 'City', multiple=\"dodge\", discrete=True, shrink = 0.7, palette = city_color_map)\n",
    "g.set_yscale('log')\n",
    "# plt.xlim(1, 10)\n",
    "plt.xticks(np.arange(0, 11, 1))\n",
    "plt.xlabel('# Amenities')\n",
    "plt.ylabel('# Street Segments')\n",
    "plt.title('Unique Amenities per Street Segment')\n",
    "# plt.legend(title = 'City')\n",
    "\n",
    "plt.show()"
   ]
  },
  {
   "cell_type": "code",
   "execution_count": null,
   "metadata": {},
   "outputs": [],
   "source": [
    "common_df = pd.DataFrame()\n",
    "for city in city_dict:\n",
    "    tmp = city_dict[city].feats.drop(columns = ['station', 'station_id'])\n",
    "    tmp['sum'] = tmp.sum(axis = 1)\n",
    "    tmp['city'] = city\n",
    "    tmp['city'] = tmp['city'].str.capitalize()\n",
    "    if city in ['bergen', 'trondheim', 'oslo']:\n",
    "        tmp['price_per_sqm'] = tmp.price_per_sqm.apply(lambda x: x/11.06)\n",
    "    common_df = pd.concat([common_df, tmp])\n",
    "common_df = common_df.sort_values(by = 'city', ascending = True)\n",
    "\n",
    "inf = float('inf')\n",
    "smol = common_df[['price_per_sqm', 'city', 'population']].fillna(0).query('price_per_sqm > 5000 & price_per_sqm < @inf')\n",
    "\n",
    "### add mean price per sqm to each city\n",
    "mean_price_per_sqm = smol.groupby('city').price_per_sqm.mean().reset_index()\n",
    "\n",
    "g = sns.violinplot(data = smol.reset_index(), y = 'price_per_sqm', x='city', common_norm = False, inner='point', hue = 'city', palette=city_color_map)\n",
    "\n",
    "# plt.ylim(80, 10000)\n",
    "g.set_yscale('log')\n",
    "\n",
    "### add mean price per sqm to each city\n",
    "for i in range(len(mean_price_per_sqm)):\n",
    "    plt.axhline(mean_price_per_sqm.price_per_sqm[i], color = city_color_map[mean_price_per_sqm.city[i]], linestyle = 'dashed')\n",
    "\n",
    "\n",
    "plt.ylabel('Price per square meter > 5000 USD')\n",
    "plt.xlabel('City')\n",
    "plt.title('Price per Square Meter of Street Segments (USD)')\n",
    "\n",
    "plt.show()"
   ]
  },
  {
   "cell_type": "code",
   "execution_count": null,
   "metadata": {},
   "outputs": [],
   "source": [
    "mean_price_per_sqm"
   ]
  },
  {
   "cell_type": "code",
   "execution_count": null,
   "metadata": {},
   "outputs": [],
   "source": [
    "import pandas as pd\n",
    "df = pd.read_csv('data/listings/clean/listings.csv')"
   ]
  },
  {
   "cell_type": "code",
   "execution_count": null,
   "metadata": {},
   "outputs": [],
   "source": [
    "### get df with price == nan\n",
    "nan_price = df[df.price_per_sqm.isna()]"
   ]
  },
  {
   "cell_type": "code",
   "execution_count": null,
   "metadata": {},
   "outputs": [],
   "source": [
    "common_df = pd.DataFrame()\n",
    "for city in city_dict:\n",
    "    tmp = city_dict[city].feats.drop(columns = ['station', 'station_id'])\n",
    "    tmp['sum'] = tmp.sum(axis = 1)\n",
    "    tmp['city'] = city\n",
    "    tmp['city'] = tmp['city'].str.capitalize()\n",
    "    common_df = pd.concat([common_df, tmp])\n",
    "common_df = common_df.sort_values(by = 'city', ascending = False)\n",
    "\n",
    "smol = common_df[['price_per_sqm', 'city', 'population']].sort_values(by = 'city', ascending = True)\n",
    "smol['population'] = smol['population'].apply(lambda x : x/0.61/0.61)\n",
    "\n",
    "g = sns.violinplot(data = smol.query('population >= 0').reset_index(), y = 'population', x='city', common_norm = False, inner='point', hue='city', palette=city_color_map)\n",
    "plt.ylabel('Population pr square kilometer')\n",
    "plt.xlabel('City')\n",
    "### sort x-axis\n",
    "\n",
    "plt.title('Population Density of Street Segments')\n",
    "\n",
    "plt.show()"
   ]
  },
  {
   "cell_type": "code",
   "execution_count": null,
   "metadata": {},
   "outputs": [],
   "source": [
    "### plot degree distribution\n",
    "degree_df = pd.DataFrame()\n",
    "\n",
    "for city in city_dict:\n",
    "    tmp = city_dict[city].lg.degree()\n",
    "    tmp = pd.DataFrame(tmp, columns = ['node', 'degree'])\n",
    "    tmp['City'] = city\n",
    "    tmp['City'] = tmp['City'].str.capitalize()\n",
    "    degree_df = pd.concat([degree_df, tmp])\n",
    "degree_df = degree_df.sort_values(by = 'City', ascending = False)\n",
    "degree_df.columns = [i.capitalize() for i in degree_df.columns]\n",
    "\n",
    "degree_dist = degree_df.groupby([\"Degree\", \"City\"]).size().reset_index(name=\"count\")\n",
    "degree_dist[\"Probability\"] = degree_dist.groupby(\"City\")[\"count\"].transform(lambda x: x / x.sum())\n",
    "\n",
    "sns.scatterplot(data=degree_dist, x=\"Degree\", y=\"Probability\", hue=\"City\", marker=\"o\", palette=city_color_map)\n",
    "\n",
    "plt.yscale('log')\n",
    "plt.xticks(np.arange(1, degree_dist[\"Degree\"].max() + 1, 1))\n",
    "plt.xlim(0, 12)\n",
    "plt.xlabel('Degree')\n",
    "plt.ylabel('Probability')\n",
    "plt.title('Degree Distribution')\n",
    "# plt.legend(title=\"City\")\n",
    "plt.show()"
   ]
  }
 ],
 "metadata": {
  "kernelspec": {
   "display_name": ".venv",
   "language": "python",
   "name": "python3"
  },
  "language_info": {
   "codemirror_mode": {
    "name": "ipython",
    "version": 3
   },
   "file_extension": ".py",
   "mimetype": "text/x-python",
   "name": "python",
   "nbconvert_exporter": "python",
   "pygments_lexer": "ipython3",
   "version": "3.10.2"
  }
 },
 "nbformat": 4,
 "nbformat_minor": 2
}
