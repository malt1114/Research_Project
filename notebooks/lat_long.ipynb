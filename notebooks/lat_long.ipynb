{
 "cells": [
  {
   "cell_type": "code",
   "execution_count": 10,
   "metadata": {},
   "outputs": [],
   "source": [
    "### imports \n",
    "import pandas as pd\n",
    "import numpy as np\n",
    "import geopy as gp \n"
   ]
  },
  {
   "cell_type": "code",
   "execution_count": null,
   "metadata": {},
   "outputs": [],
   "source": [
    "loc = gp.geocoders.Photon(user_agent=\"myGeocoder\")\n",
    "\n",
    "### read in the data\n",
    "norway = pd.read_csv('../data/clean/norway_listings.csv')\n",
    "na = pd.read_csv('../data/clean/listings_NA.csv')\n",
    "\n",
    "def get_lat_long(address):\n",
    "    try:\n",
    "        location = loc.geocode(address)\n",
    "        print(location.latitude, location.longitude)\n",
    "        return location.latitude, location.longitude\n",
    "    except:\n",
    "        print('error')\n",
    "        return np.nan, np.nan\n",
    "\n",
    "norway['lat_long'] = norway['address'].apply(get_lat_long)"
   ]
  },
  {
   "cell_type": "code",
   "execution_count": 12,
   "metadata": {},
   "outputs": [],
   "source": [
    "norway.to_csv('../data/clean/norway_listings.csv', index=False)"
   ]
  },
  {
   "cell_type": "code",
   "execution_count": null,
   "metadata": {},
   "outputs": [],
   "source": []
  }
 ],
 "metadata": {
  "kernelspec": {
   "display_name": ".venv",
   "language": "python",
   "name": "python3"
  },
  "language_info": {
   "codemirror_mode": {
    "name": "ipython",
    "version": 3
   },
   "file_extension": ".py",
   "mimetype": "text/x-python",
   "name": "python",
   "nbconvert_exporter": "python",
   "pygments_lexer": "ipython3",
   "version": "3.10.2"
  }
 },
 "nbformat": 4,
 "nbformat_minor": 2
}
