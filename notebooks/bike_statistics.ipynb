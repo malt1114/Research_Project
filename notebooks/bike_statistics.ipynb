{
 "cells": [
  {
   "cell_type": "code",
   "execution_count": 1,
   "id": "initial_id",
   "metadata": {
    "collapsed": true,
    "ExecuteTime": {
     "end_time": "2024-12-11T07:47:10.380870Z",
     "start_time": "2024-12-11T07:47:08.129578Z"
    }
   },
   "outputs": [],
   "source": [
    "import pandas as pd\n",
    "import os\n",
    "from tqdm import tqdm\n",
    "import geopandas as gpd\n",
    "from shapely.geometry import LineString"
   ]
  },
  {
   "cell_type": "code",
   "execution_count": 2,
   "outputs": [],
   "source": [
    "_path = \"../bike_network_data/\" #put your directory path here"
   ],
   "metadata": {
    "collapsed": false,
    "ExecuteTime": {
     "end_time": "2024-12-11T07:47:12.190207Z",
     "start_time": "2024-12-11T07:47:12.181138Z"
    }
   },
   "id": "925a83e5f8b0e685"
  },
  {
   "cell_type": "code",
   "execution_count": 15,
   "outputs": [],
   "source": [
    "def create_dataframe (city):\n",
    "    dir_path = os.path.join(_path, city)\n",
    "    export_path = os.path.join(dir_path)\n",
    "    \n",
    "    # Get a list of all csv files in the directory\n",
    "    csv_files = [f for f in os.listdir(dir_path) if f.endswith('.csv')]\n",
    "    dataframes = []\n",
    "    \n",
    "    for file in tqdm(csv_files):\n",
    "        # Extract year and month from filename\n",
    "        year, month = file.split('.')[0].split('_')\n",
    "    \n",
    "        # Read csv file into a dataframe\n",
    "        df = pd.read_csv(os.path.join(dir_path, file))\n",
    "    \n",
    "        # Add a new column for the month and year\n",
    "        df['month'] = month\n",
    "        df['year'] = year\n",
    "    \n",
    "        # Check if the DataFrame is not empty or does not contain only NaN values (avoid warning when concatenating dfs)\n",
    "        if not df.empty and not df.isna().all().all():\n",
    "            dataframes.append(df)\n",
    "    \n",
    "    # Concatenate all dataframes into a single dataframe\n",
    "    if dataframes:\n",
    "        combined_df = pd.concat(dataframes)\n",
    "    \n",
    "        # Write the combined dataframe to a new csv file in the export directory\n",
    "        combined_df.to_csv(f'{export_path}/preprocessed_bike_rides.csv', index=False)\n",
    "    return"
   ],
   "metadata": {
    "collapsed": false,
    "ExecuteTime": {
     "end_time": "2024-12-11T08:11:20.091354Z",
     "start_time": "2024-12-11T08:11:20.087263Z"
    }
   },
   "id": "2712514e8a32b230"
  },
  {
   "cell_type": "code",
   "execution_count": 29,
   "outputs": [],
   "source": [
    "# functions to create dataframes for stations and rides separately, can be used to create bike network\n",
    "def create_stations_gdf(df: pd.DataFrame, crs_in: int = 4326, crs_out: int = 3857) -> gpd.GeoDataFrame:\n",
    "    df = df.copy()  # Create a copy to avoid changing the original DataFrame\n",
    "\n",
    "    # Create unique dataframes for start and end stations\n",
    "    start_stations = df[\n",
    "        [\n",
    "            \"start_station_id\",\n",
    "            \"start_station_name\",\n",
    "            \"start_station_description\",\n",
    "            \"start_station_latitude\",\n",
    "            \"start_station_longitude\",\n",
    "            \"month\",\n",
    "            \"year\",\n",
    "        ]\n",
    "    ].drop_duplicates()\n",
    "    end_stations = df[\n",
    "        [\n",
    "            \"end_station_id\",\n",
    "            \"end_station_name\",\n",
    "            \"end_station_description\",\n",
    "            \"end_station_latitude\",\n",
    "            \"end_station_longitude\",\n",
    "            \"month\",\n",
    "            \"year\",\n",
    "        ]\n",
    "    ].drop_duplicates()\n",
    "\n",
    "    # Rename columns for uniformity\n",
    "    start_stations.columns = [\n",
    "        \"station_id\",\n",
    "        \"station_name\",\n",
    "        \"station_description\",\n",
    "        \"latitude\",\n",
    "        \"longitude\",\n",
    "        \"month\",\n",
    "        \"year\",\n",
    "    ]\n",
    "    end_stations.columns = [\n",
    "        \"station_id\",\n",
    "        \"station_name\",\n",
    "        \"station_description\",\n",
    "        \"latitude\",\n",
    "        \"longitude\",\n",
    "        \"month\",\n",
    "        \"year\",\n",
    "    ]\n",
    "\n",
    "    # Concatenate the dfs and drop duplicates\n",
    "    stations = pd.concat([start_stations, end_stations]).drop_duplicates()\n",
    "    \n",
    "    # Create GeoDataFrame\n",
    "    gdf_stations = gpd.GeoDataFrame(\n",
    "        stations,\n",
    "        geometry=gpd.points_from_xy(stations.longitude, stations.latitude),\n",
    "        crs=crs_in,\n",
    "    )\n",
    "    gdf_stations = gdf_stations.to_crs(epsg=crs_out)\n",
    "\n",
    "    return gdf_stations\n",
    "\n",
    "def create_rides_gdf(df: pd.DataFrame, crs_in: int = 4326, crs_out: int = 3857) -> gpd.GeoDataFrame:\n",
    "    df = df.copy()  # Create a copy to avoid changing the original DataFrame\n",
    "    \n",
    "    # Create a new DataFrame with necessary columns\n",
    "    df_rides = df[\n",
    "        [\n",
    "            \"start_station_id\",\n",
    "            \"end_station_id\",\n",
    "            \"started_at\",\n",
    "            \"ended_at\",\n",
    "            \"duration\",\n",
    "            \"start_station_name\",\n",
    "            \"start_station_description\",\n",
    "            \"start_station_latitude\",\n",
    "            \"start_station_longitude\",\n",
    "            \"end_station_name\",\n",
    "            \"end_station_description\",\n",
    "            \"end_station_latitude\",\n",
    "            \"end_station_longitude\",\n",
    "            \"month\",\n",
    "            \"year\",\n",
    "        ]\n",
    "    ].copy() # copy to avoid warning\n",
    "\n",
    "    # Create LineString objects\n",
    "    df_rides.loc[:, \"geometry\"] = df_rides.apply(\n",
    "        lambda row: LineString(\n",
    "            [\n",
    "                (row[\"start_station_longitude\"], row[\"start_station_latitude\"]),\n",
    "                (row[\"end_station_longitude\"], row[\"end_station_latitude\"]),\n",
    "            ]\n",
    "        ),\n",
    "        axis=1,\n",
    "    )\n",
    "\n",
    "    # Create GeoDataFrame\n",
    "    gdf_rides = gpd.GeoDataFrame(df_rides, geometry=\"geometry\", crs=crs_in)\n",
    "    gdf_rides = gdf_rides.to_crs(epsg=crs_out)\n",
    "    return gdf_rides\n",
    "\n",
    "def washington_create_stations_gdf(df: pd.DataFrame, crs_in: int = 4326, crs_out: int = 3857) -> gpd.GeoDataFrame:\n",
    "    df = df.copy()  # Create a copy to avoid changing the original DataFrame\n",
    "\n",
    "    # Create unique dataframes for start and end stations\n",
    "    start_stations = df[\n",
    "        [\n",
    "            \"start_station_id\",\n",
    "            \"start_station_name\",\n",
    "            \"start_lat\",\n",
    "            \"start_lng\",\n",
    "            \"month\",\n",
    "            \"year\",\n",
    "        ]\n",
    "    ].drop_duplicates()\n",
    "    end_stations = df[\n",
    "        [\n",
    "            \"end_station_id\",\n",
    "            \"end_station_name\",\n",
    "            \"end_lat\",\n",
    "            \"end_lng\",\n",
    "            \"month\",\n",
    "            \"year\",\n",
    "        ]\n",
    "    ].drop_duplicates()\n",
    "\n",
    "    # Rename columns for uniformity\n",
    "    start_stations.columns = [\n",
    "        \"station_id\",\n",
    "        \"station_name\",\n",
    "        \"latitude\",\n",
    "        \"longitude\",\n",
    "        \"month\",\n",
    "        \"year\",\n",
    "    ]\n",
    "    end_stations.columns = [\n",
    "        \"station_id\",\n",
    "        \"station_name\",\n",
    "        \"latitude\",\n",
    "        \"longitude\",\n",
    "        \"month\",\n",
    "        \"year\",\n",
    "    ]\n",
    "\n",
    "    # Concatenate the dfs and drop duplicates\n",
    "    stations = pd.concat([start_stations, end_stations]).drop_duplicates()\n",
    "\n",
    "    # Create GeoDataFrame\n",
    "    gdf_stations = gpd.GeoDataFrame(\n",
    "        stations,\n",
    "        geometry=gpd.points_from_xy(stations.longitude, stations.latitude),\n",
    "        crs=crs_in,\n",
    "    )\n",
    "    gdf_stations = gdf_stations.to_crs(epsg=crs_out)\n",
    "\n",
    "    return gdf_stations\n",
    "\n",
    "def portland_create_stations_gdf(df: pd.DataFrame, crs_in: int = 4326, crs_out: int = 3857) -> gpd.GeoDataFrame:\n",
    "    df = df.copy()  # Create a copy to avoid changing the original DataFrame\n",
    "\n",
    "    # Create unique dataframes for start and end stations\n",
    "    start_stations = df[\n",
    "        [\n",
    "        \"StartHub\",\n",
    "        \"StartLatitude\",\n",
    "        \"StartLongitude\",\n",
    "        \"month\",\n",
    "        \"year\",\n",
    "    ]\n",
    "    ].drop_duplicates()\n",
    "    end_stations = df[\n",
    "        [\n",
    "        \"EndHub\",\n",
    "        \"EndLatitude\",\n",
    "        \"EndLongitude\",\n",
    "        \"month\",\n",
    "        \"year\",\n",
    "    ]\n",
    "    ].drop_duplicates()\n",
    "\n",
    "    # Rename columns for uniformity\n",
    "    start_stations.columns = [\n",
    "        \"station_name\",\n",
    "        \"latitude\",\n",
    "        \"longitude\",\n",
    "        \"month\",\n",
    "        \"year\",\n",
    "    ]\n",
    "    end_stations.columns = [\n",
    "        \"station_name\",\n",
    "        \"latitude\",\n",
    "        \"longitude\",\n",
    "        \"month\",\n",
    "        \"year\",\n",
    "    ]\n",
    "\n",
    "    # Concatenate the dfs and drop duplicates\n",
    "    stations = pd.concat([start_stations, end_stations]).drop_duplicates()\n",
    "\n",
    "    # Create GeoDataFrame\n",
    "    gdf_stations = gpd.GeoDataFrame(\n",
    "        stations,\n",
    "        geometry=gpd.points_from_xy(stations.longitude, stations.latitude),\n",
    "        crs=crs_in,\n",
    "    )\n",
    "    gdf_stations = gdf_stations.to_crs(epsg=crs_out)\n",
    "\n",
    "    return gdf_stations\n",
    "\n",
    "def create_rides_washington_gdf(df: pd.DataFrame, crs_in: int = 4326, crs_out: int = 3857) -> gpd.GeoDataFrame:\n",
    "    df = df.copy()  # Create a copy to avoid changing the original DataFrame\n",
    "    \n",
    "    # Create a new DataFrame with necessary columns\n",
    "    df_rides = df[\n",
    "        [\n",
    "            \"start_station_id\",\n",
    "            \"end_station_id\",\n",
    "            \"started_at\",\n",
    "            \"ended_at\",\n",
    "            \"start_station_name\",\n",
    "            \"start_lat\",\n",
    "            \"start_lng\",\n",
    "            \"end_station_name\",\n",
    "            \"end_lat\",\n",
    "            \"end_lng\",\n",
    "            \"month\",\n",
    "            \"year\",\n",
    "        ]\n",
    "    ].copy() # copy to avoid warning\n",
    "    \n",
    "    df_rides.columns = [\n",
    "        \"start_station_id\",\n",
    "        \"end_station_id\",\n",
    "        \"started_at\",\n",
    "        \"ended_at\",\n",
    "        \"start_station_name\",\n",
    "        \"start_station_latitude\",\n",
    "        \"start_station_longitude\",\n",
    "        \"end_station_name\",\n",
    "        \"end_station_latitude\",\n",
    "        \"end_station_longitude\",\n",
    "        \"month\",\n",
    "        \"year\",\n",
    "    ]\n",
    "\n",
    "    # Create LineString objects\n",
    "    df_rides.loc[:, \"geometry\"] = df_rides.apply(\n",
    "        lambda row: LineString(\n",
    "            [\n",
    "                (row[\"start_station_longitude\"], row[\"start_station_latitude\"]),\n",
    "                (row[\"end_station_longitude\"], row[\"end_station_latitude\"]),\n",
    "            ]\n",
    "        ),\n",
    "        axis=1,\n",
    "    )\n",
    "\n",
    "    # Create GeoDataFrame\n",
    "    gdf_rides = gpd.GeoDataFrame(df_rides, geometry=\"geometry\", crs=crs_in)\n",
    "    gdf_rides = gdf_rides.to_crs(epsg=crs_out)\n",
    "    return gdf_rides\n",
    "\n",
    "\n",
    "def create_rides_portland_gdf(df: pd.DataFrame, crs_in: int = 4326, crs_out: int = 3857) -> gpd.GeoDataFrame:\n",
    "    df = df.copy()  # Create a copy to avoid changing the original DataFrame\n",
    "\n",
    "    # Create a new DataFrame with necessary columns\n",
    "    df_rides = df[\n",
    "        [\n",
    "            \"StartDate\",\n",
    "            \"EndDate\",\n",
    "            \"StartHub\",\n",
    "            \"StartLatitude\",\n",
    "            \"StartLongitude\",\n",
    "            \"EndHub\",\n",
    "            \"EndLatitude\",\n",
    "            \"EndLongitude\",\n",
    "            \"month\",\n",
    "            \"year\",\n",
    "        ]\n",
    "    ].copy()  # copy to avoid warning\n",
    "\n",
    "    df_rides.columns = [\n",
    "        \"started_at\",\n",
    "        \"ended_at\",\n",
    "        \"start_station_name\",\n",
    "        \"start_station_latitude\",\n",
    "        \"start_station_longitude\",\n",
    "        \"end_station_name\",\n",
    "        \"end_station_latitude\",\n",
    "        \"end_station_longitude\",\n",
    "        \"month\",\n",
    "        \"year\",\n",
    "    ]\n",
    "\n",
    "    # Create LineString objects\n",
    "    df_rides.loc[:, \"geometry\"] = df_rides.apply(\n",
    "        lambda row: LineString(\n",
    "            [\n",
    "                (row[\"start_station_longitude\"], row[\"start_station_latitude\"]),\n",
    "                (row[\"end_station_longitude\"], row[\"end_station_latitude\"]),\n",
    "            ]\n",
    "        ),\n",
    "        axis=1,\n",
    "    )\n",
    "\n",
    "    # Create GeoDataFrame\n",
    "    gdf_rides = gpd.GeoDataFrame(df_rides, geometry=\"geometry\", crs=crs_in)\n",
    "    gdf_rides = gdf_rides.to_crs(epsg=crs_out)\n",
    "    return gdf_rides"
   ],
   "metadata": {
    "collapsed": false,
    "ExecuteTime": {
     "end_time": "2024-12-11T08:36:21.349196Z",
     "start_time": "2024-12-11T08:36:21.330242Z"
    }
   },
   "id": "b4598254e51975a9"
  },
  {
   "cell_type": "code",
   "execution_count": 5,
   "outputs": [],
   "source": [
    "df = pd.read_csv(f'{_path}/preprocessed_bike_rides.csv')\n",
    "\n",
    "stations_oslo = create_stations_gdf(df)\n",
    "rides_oslo = create_rides_gdf(df)"
   ],
   "metadata": {
    "collapsed": false,
    "ExecuteTime": {
     "end_time": "2024-12-11T07:51:54.121662Z",
     "start_time": "2024-12-11T07:51:22.032804Z"
    }
   },
   "id": "e9083c6af86625"
  },
  {
   "cell_type": "code",
   "execution_count": 11,
   "outputs": [],
   "source": [
    "stations_oslo = stations_oslo.drop_duplicates(subset=['station_id'])"
   ],
   "metadata": {
    "collapsed": false,
    "ExecuteTime": {
     "end_time": "2024-12-11T08:02:53.265746Z",
     "start_time": "2024-12-11T08:02:53.260171Z"
    }
   },
   "id": "d154834cb6f179d7"
  },
  {
   "cell_type": "code",
   "execution_count": 12,
   "outputs": [
    {
     "data": {
      "text/plain": "(277, 8)"
     },
     "execution_count": 12,
     "metadata": {},
     "output_type": "execute_result"
    }
   ],
   "source": [
    "stations_oslo.shape"
   ],
   "metadata": {
    "collapsed": false,
    "ExecuteTime": {
     "end_time": "2024-12-11T08:02:55.048675Z",
     "start_time": "2024-12-11T08:02:55.043123Z"
    }
   },
   "id": "c68e4ab2bc625303"
  },
  {
   "cell_type": "code",
   "execution_count": 13,
   "outputs": [
    {
     "data": {
      "text/plain": "(2407818, 16)"
     },
     "execution_count": 13,
     "metadata": {},
     "output_type": "execute_result"
    }
   ],
   "source": [
    "rides_oslo.shape"
   ],
   "metadata": {
    "collapsed": false,
    "ExecuteTime": {
     "end_time": "2024-12-11T08:07:04.316882Z",
     "start_time": "2024-12-11T08:07:04.309236Z"
    }
   },
   "id": "9a88a89d9e1abadd"
  },
  {
   "cell_type": "markdown",
   "source": [
    "## Bergen"
   ],
   "metadata": {
    "collapsed": false
   },
   "id": "dfedea956853373d"
  },
  {
   "cell_type": "code",
   "execution_count": 16,
   "outputs": [
    {
     "name": "stderr",
     "output_type": "stream",
     "text": [
      "100%|██████████| 24/24 [00:02<00:00, 10.65it/s]\n"
     ]
    }
   ],
   "source": [
    "create_dataframe('Bergen')"
   ],
   "metadata": {
    "collapsed": false,
    "ExecuteTime": {
     "end_time": "2024-12-11T08:11:31.318810Z",
     "start_time": "2024-12-11T08:11:24.064683Z"
    }
   },
   "id": "b915f476b4138353"
  },
  {
   "cell_type": "code",
   "execution_count": 17,
   "outputs": [],
   "source": [
    "bergen_path = os.path.join(_path, 'Bergen')\n",
    "df = pd.read_csv(f'{bergen_path}/preprocessed_bike_rides.csv')\n",
    "\n",
    "stations_bergen = create_stations_gdf(df)\n",
    "rides_bergen = create_rides_gdf(df)"
   ],
   "metadata": {
    "collapsed": false,
    "ExecuteTime": {
     "end_time": "2024-12-11T08:16:26.902955Z",
     "start_time": "2024-12-11T08:16:13.705149Z"
    }
   },
   "id": "b6aaafea9921b36"
  },
  {
   "cell_type": "code",
   "execution_count": 19,
   "outputs": [],
   "source": [
    "stations_bergen = stations_bergen.drop_duplicates(subset=['station_id'])"
   ],
   "metadata": {
    "collapsed": false,
    "ExecuteTime": {
     "end_time": "2024-12-11T08:17:03.354665Z",
     "start_time": "2024-12-11T08:17:03.349991Z"
    }
   },
   "id": "5110adb5f6a180cb"
  },
  {
   "cell_type": "code",
   "execution_count": 20,
   "outputs": [
    {
     "data": {
      "text/plain": "(123, 8)"
     },
     "execution_count": 20,
     "metadata": {},
     "output_type": "execute_result"
    }
   ],
   "source": [
    "stations_bergen.shape"
   ],
   "metadata": {
    "collapsed": false,
    "ExecuteTime": {
     "end_time": "2024-12-11T08:17:14.211485Z",
     "start_time": "2024-12-11T08:17:14.193353Z"
    }
   },
   "id": "5962eb1ebf5cfa07"
  },
  {
   "cell_type": "code",
   "execution_count": 21,
   "outputs": [
    {
     "data": {
      "text/plain": "(1003177, 16)"
     },
     "execution_count": 21,
     "metadata": {},
     "output_type": "execute_result"
    }
   ],
   "source": [
    "rides_bergen.shape"
   ],
   "metadata": {
    "collapsed": false,
    "ExecuteTime": {
     "end_time": "2024-12-11T08:17:33.077021Z",
     "start_time": "2024-12-11T08:17:33.066866Z"
    }
   },
   "id": "5e31fc5b6cc5ce0e"
  },
  {
   "cell_type": "markdown",
   "source": [
    "## Trondheim"
   ],
   "metadata": {
    "collapsed": false
   },
   "id": "28a987c5ecc852b5"
  },
  {
   "cell_type": "code",
   "execution_count": 22,
   "outputs": [
    {
     "name": "stderr",
     "output_type": "stream",
     "text": [
      "100%|██████████| 18/18 [00:00<00:00, 25.91it/s]\n"
     ]
    }
   ],
   "source": [
    "create_dataframe('Trondheim')"
   ],
   "metadata": {
    "collapsed": false,
    "ExecuteTime": {
     "end_time": "2024-12-11T08:20:15.617152Z",
     "start_time": "2024-12-11T08:20:13.459393Z"
    }
   },
   "id": "7ff7d443352375d0"
  },
  {
   "cell_type": "code",
   "execution_count": 23,
   "outputs": [],
   "source": [
    "trondheim_path = os.path.join(_path, 'Trondheim')\n",
    "df = pd.read_csv(f'{trondheim_path}/preprocessed_bike_rides.csv')\n",
    "\n",
    "stations_trondheim = create_stations_gdf(df)\n",
    "rides_trondheim = create_rides_gdf(df)\n",
    "stations_trondheim = stations_trondheim.drop_duplicates(subset=['station_id'])"
   ],
   "metadata": {
    "collapsed": false,
    "ExecuteTime": {
     "end_time": "2024-12-11T08:22:21.073658Z",
     "start_time": "2024-12-11T08:22:17.366480Z"
    }
   },
   "id": "5392561d618a0976"
  },
  {
   "cell_type": "code",
   "execution_count": 24,
   "outputs": [
    {
     "data": {
      "text/plain": "(73, 8)"
     },
     "execution_count": 24,
     "metadata": {},
     "output_type": "execute_result"
    }
   ],
   "source": [
    "stations_trondheim.shape"
   ],
   "metadata": {
    "collapsed": false,
    "ExecuteTime": {
     "end_time": "2024-12-11T08:22:33.134823Z",
     "start_time": "2024-12-11T08:22:33.116989Z"
    }
   },
   "id": "6a14673c6f5b16a8"
  },
  {
   "cell_type": "code",
   "execution_count": 25,
   "outputs": [
    {
     "data": {
      "text/plain": "(286833, 16)"
     },
     "execution_count": 25,
     "metadata": {},
     "output_type": "execute_result"
    }
   ],
   "source": [
    "rides_trondheim.shape"
   ],
   "metadata": {
    "collapsed": false,
    "ExecuteTime": {
     "end_time": "2024-12-11T08:22:40.469802Z",
     "start_time": "2024-12-11T08:22:40.450701Z"
    }
   },
   "id": "cfdd3ab0c7c4390f"
  },
  {
   "cell_type": "markdown",
   "source": [
    "## Washington D.C."
   ],
   "metadata": {
    "collapsed": false
   },
   "id": "5413a8829223ac96"
  },
  {
   "cell_type": "code",
   "execution_count": 26,
   "outputs": [
    {
     "name": "stderr",
     "output_type": "stream",
     "text": [
      "100%|██████████| 24/24 [00:14<00:00,  1.63it/s]\n"
     ]
    }
   ],
   "source": [
    "create_dataframe('Washington_DC')"
   ],
   "metadata": {
    "collapsed": false,
    "ExecuteTime": {
     "end_time": "2024-12-11T08:31:51.661766Z",
     "start_time": "2024-12-11T08:31:00.080040Z"
    }
   },
   "id": "a0e25a3ede566faf"
  },
  {
   "cell_type": "code",
   "execution_count": 38,
   "outputs": [],
   "source": [
    "washington_path = os.path.join(_path, 'Washington_DC')\n",
    "df = pd.read_csv(f'{washington_path}/preprocessed_bike_rides.csv')\n",
    "\n",
    "stations_washington_nan = washington_create_stations_gdf(df)\n",
    "rides_washington_nan = create_rides_washington_gdf(df)"
   ],
   "metadata": {
    "collapsed": false,
    "ExecuteTime": {
     "end_time": "2024-12-11T09:06:07.617506Z",
     "start_time": "2024-12-11T09:04:02.634390Z"
    }
   },
   "id": "760734b40832ec0"
  },
  {
   "cell_type": "code",
   "execution_count": 42,
   "outputs": [
    {
     "data": {
      "text/plain": "11334"
     },
     "execution_count": 42,
     "metadata": {},
     "output_type": "execute_result"
    }
   ],
   "source": [
    "stations_washington_nan.shape[0] - stations_washington_nan.dropna(subset=['station_id']).shape[0]"
   ],
   "metadata": {
    "collapsed": false,
    "ExecuteTime": {
     "end_time": "2024-12-11T09:08:14.055184Z",
     "start_time": "2024-12-11T09:08:13.957701Z"
    }
   },
   "id": "4dcbedcd550c4143"
  },
  {
   "cell_type": "code",
   "execution_count": 43,
   "outputs": [
    {
     "data": {
      "text/plain": "         station_id                                  station_name   latitude  \\\n0           31136.0                          11th & Clifton St NW  38.922089   \n2           31670.0                     12th St & New York Ave NW  38.901104   \n3           31304.0            36th & Calvert St NW / Glover Park  38.922581   \n4           32220.0  W&OD Trail/Sunset Hills Rd & Isaac Newton Sq  38.951443   \n11          32422.0                    The Mall at Prince Georges  38.968922   \n...             ...                                           ...        ...   \n6505880     31103.0                          15th & Harvard St NW  38.926124   \n421045      32909.0                              tech trailer V-1  38.964459   \n880073      32900.0                       Motivate BX Tech office  38.964406   \n3676665     32902.0                          Motivate Tech Office   0.000000   \n6648022     32906.0                     V1 Warehouse Test Station  38.963633   \n\n         longitude  month  year                          geometry  \n0       -77.027172     10    23  POINT (-8574625.561 4710517.658)  \n2       -77.028061     10    23  POINT (-8574724.527 4707515.453)  \n3       -77.070334     10    23  POINT (-8579430.336 4710588.024)  \n4       -77.340377     10    23  POINT (-8609491.385 4714718.584)  \n11      -76.954219     10    23  POINT (-8566504.511 4717220.844)  \n...            ...    ...   ...                               ...  \n6505880 -77.035421      1    22  POINT (-8575543.804 4711095.019)  \n421045  -77.010759     10    23  POINT (-8572798.477 4716581.907)  \n880073  -77.010759      4    23  POINT (-8572798.490 4716574.300)  \n3676665   0.000000      9    22               POINT (0.000 0.000)  \n6648022 -77.010255      3    22  POINT (-8572742.357 4716463.586)  \n\n[775 rows x 7 columns]",
      "text/html": "<div>\n<style scoped>\n    .dataframe tbody tr th:only-of-type {\n        vertical-align: middle;\n    }\n\n    .dataframe tbody tr th {\n        vertical-align: top;\n    }\n\n    .dataframe thead th {\n        text-align: right;\n    }\n</style>\n<table border=\"1\" class=\"dataframe\">\n  <thead>\n    <tr style=\"text-align: right;\">\n      <th></th>\n      <th>station_id</th>\n      <th>station_name</th>\n      <th>latitude</th>\n      <th>longitude</th>\n      <th>month</th>\n      <th>year</th>\n      <th>geometry</th>\n    </tr>\n  </thead>\n  <tbody>\n    <tr>\n      <th>0</th>\n      <td>31136.0</td>\n      <td>11th &amp; Clifton St NW</td>\n      <td>38.922089</td>\n      <td>-77.027172</td>\n      <td>10</td>\n      <td>23</td>\n      <td>POINT (-8574625.561 4710517.658)</td>\n    </tr>\n    <tr>\n      <th>2</th>\n      <td>31670.0</td>\n      <td>12th St &amp; New York Ave NW</td>\n      <td>38.901104</td>\n      <td>-77.028061</td>\n      <td>10</td>\n      <td>23</td>\n      <td>POINT (-8574724.527 4707515.453)</td>\n    </tr>\n    <tr>\n      <th>3</th>\n      <td>31304.0</td>\n      <td>36th &amp; Calvert St NW / Glover Park</td>\n      <td>38.922581</td>\n      <td>-77.070334</td>\n      <td>10</td>\n      <td>23</td>\n      <td>POINT (-8579430.336 4710588.024)</td>\n    </tr>\n    <tr>\n      <th>4</th>\n      <td>32220.0</td>\n      <td>W&amp;OD Trail/Sunset Hills Rd &amp; Isaac Newton Sq</td>\n      <td>38.951443</td>\n      <td>-77.340377</td>\n      <td>10</td>\n      <td>23</td>\n      <td>POINT (-8609491.385 4714718.584)</td>\n    </tr>\n    <tr>\n      <th>11</th>\n      <td>32422.0</td>\n      <td>The Mall at Prince Georges</td>\n      <td>38.968922</td>\n      <td>-76.954219</td>\n      <td>10</td>\n      <td>23</td>\n      <td>POINT (-8566504.511 4717220.844)</td>\n    </tr>\n    <tr>\n      <th>...</th>\n      <td>...</td>\n      <td>...</td>\n      <td>...</td>\n      <td>...</td>\n      <td>...</td>\n      <td>...</td>\n      <td>...</td>\n    </tr>\n    <tr>\n      <th>6505880</th>\n      <td>31103.0</td>\n      <td>15th &amp; Harvard St NW</td>\n      <td>38.926124</td>\n      <td>-77.035421</td>\n      <td>1</td>\n      <td>22</td>\n      <td>POINT (-8575543.804 4711095.019)</td>\n    </tr>\n    <tr>\n      <th>421045</th>\n      <td>32909.0</td>\n      <td>tech trailer V-1</td>\n      <td>38.964459</td>\n      <td>-77.010759</td>\n      <td>10</td>\n      <td>23</td>\n      <td>POINT (-8572798.477 4716581.907)</td>\n    </tr>\n    <tr>\n      <th>880073</th>\n      <td>32900.0</td>\n      <td>Motivate BX Tech office</td>\n      <td>38.964406</td>\n      <td>-77.010759</td>\n      <td>4</td>\n      <td>23</td>\n      <td>POINT (-8572798.490 4716574.300)</td>\n    </tr>\n    <tr>\n      <th>3676665</th>\n      <td>32902.0</td>\n      <td>Motivate Tech Office</td>\n      <td>0.000000</td>\n      <td>0.000000</td>\n      <td>9</td>\n      <td>22</td>\n      <td>POINT (0.000 0.000)</td>\n    </tr>\n    <tr>\n      <th>6648022</th>\n      <td>32906.0</td>\n      <td>V1 Warehouse Test Station</td>\n      <td>38.963633</td>\n      <td>-77.010255</td>\n      <td>3</td>\n      <td>22</td>\n      <td>POINT (-8572742.357 4716463.586)</td>\n    </tr>\n  </tbody>\n</table>\n<p>775 rows × 7 columns</p>\n</div>"
     },
     "execution_count": 43,
     "metadata": {},
     "output_type": "execute_result"
    }
   ],
   "source": [
    "stations_washington_nan = stations_washington_nan.drop_duplicates(subset=['station_id'])"
   ],
   "metadata": {
    "collapsed": false,
    "ExecuteTime": {
     "end_time": "2024-12-11T09:12:16.866439Z",
     "start_time": "2024-12-11T09:12:16.841533Z"
    }
   },
   "id": "a7ae8f65d875f589"
  },
  {
   "cell_type": "code",
   "execution_count": 44,
   "outputs": [],
   "source": [
    "stations_washington = stations_washington_nan.dropna(subset=['station_id'])"
   ],
   "metadata": {
    "collapsed": false,
    "ExecuteTime": {
     "end_time": "2024-12-11T09:12:20.627386Z",
     "start_time": "2024-12-11T09:12:20.621915Z"
    }
   },
   "id": "e8b2fa8de4645485"
  },
  {
   "cell_type": "code",
   "execution_count": 45,
   "outputs": [
    {
     "data": {
      "text/plain": "(774, 7)"
     },
     "execution_count": 45,
     "metadata": {},
     "output_type": "execute_result"
    }
   ],
   "source": [
    "stations_washington.shape"
   ],
   "metadata": {
    "collapsed": false,
    "ExecuteTime": {
     "end_time": "2024-12-11T09:12:57.902416Z",
     "start_time": "2024-12-11T09:12:57.898783Z"
    }
   },
   "id": "88fb6945c777a67c"
  },
  {
   "cell_type": "code",
   "execution_count": 46,
   "outputs": [
    {
     "data": {
      "text/plain": "(7944116, 13)"
     },
     "execution_count": 46,
     "metadata": {},
     "output_type": "execute_result"
    }
   ],
   "source": [
    "rides_washington_nan.shape"
   ],
   "metadata": {
    "collapsed": false,
    "ExecuteTime": {
     "end_time": "2024-12-11T09:13:41.060388Z",
     "start_time": "2024-12-11T09:13:41.034560Z"
    }
   },
   "id": "63efb284bcfd3000"
  },
  {
   "cell_type": "markdown",
   "source": [
    "## Portland"
   ],
   "metadata": {
    "collapsed": false
   },
   "id": "51ea341adce086c8"
  },
  {
   "cell_type": "code",
   "execution_count": 47,
   "outputs": [
    {
     "name": "stderr",
     "output_type": "stream",
     "text": [
      "100%|██████████| 24/24 [00:01<00:00, 18.40it/s]\n"
     ]
    }
   ],
   "source": [
    "create_dataframe('Portland')"
   ],
   "metadata": {
    "collapsed": false,
    "ExecuteTime": {
     "end_time": "2024-12-11T09:14:37.468020Z",
     "start_time": "2024-12-11T09:14:32.398894Z"
    }
   },
   "id": "5d1fcd981209ac8a"
  },
  {
   "cell_type": "code",
   "execution_count": 48,
   "outputs": [],
   "source": [
    "portland_path = os.path.join(_path, 'Portland')\n",
    "df = pd.read_csv(f'{portland_path}/preprocessed_bike_rides.csv')\n",
    "\n",
    "stations_portland_nan = portland_create_stations_gdf(df)\n",
    "rides_portland_nan = create_rides_portland_gdf(df)"
   ],
   "metadata": {
    "collapsed": false,
    "ExecuteTime": {
     "end_time": "2024-12-11T09:31:50.329587Z",
     "start_time": "2024-12-11T09:31:40.996698Z"
    }
   },
   "id": "4ff4c663c64dace7"
  },
  {
   "cell_type": "code",
   "execution_count": 49,
   "outputs": [
    {
     "data": {
      "text/plain": "32698"
     },
     "execution_count": 49,
     "metadata": {},
     "output_type": "execute_result"
    }
   ],
   "source": [
    "stations_portland_nan.shape[0] - stations_portland_nan.dropna(subset=['station_name']).shape[0]"
   ],
   "metadata": {
    "collapsed": false,
    "ExecuteTime": {
     "end_time": "2024-12-11T09:33:14.093150Z",
     "start_time": "2024-12-11T09:33:14.071040Z"
    }
   },
   "id": "81185b8ce2727267"
  },
  {
   "cell_type": "code",
   "execution_count": 50,
   "outputs": [
    {
     "data": {
      "text/plain": "                           station_name   latitude   longitude  month  year  \\\n0                   SE 30th at Division  45.504689 -122.634555     11    19   \n1                                   NaN  45.510808 -122.658733     11    19   \n3                       SW 12th at Clay  45.515074 -122.687030     11    19   \n4                   NE Broadway at 12th  45.534969 -122.653631     11    19   \n8                   N Mason at Williams  45.553353 -122.666915     11    19   \n...                                 ...        ...         ...    ...   ...   \n609796              SE Taylor at Chavez  45.514975 -122.623157      1    18   \n611839     NW Savier at 23rd - Disabled  45.534777 -122.698872      1    18   \n612260          N Russell at Interstate  45.541078 -122.676972      1    18   \n611118            Portland Night Market  45.517457 -122.663980      1    18   \n611303  SE 37th at Hawthorne - Disabled  45.511960 -122.625753      1    18   \n\n                                 geometry  \n0       POINT (-13651616.227 5701327.465)  \n1       POINT (-13654307.743 5702299.456)  \n3       POINT (-13657457.684 5702977.130)  \n4       POINT (-13653739.747 5706138.220)  \n8       POINT (-13655218.470 5709060.377)  \n...                                   ...  \n609796  POINT (-13650347.397 5702961.401)  \n611839  POINT (-13658775.919 5706107.724)  \n612260  POINT (-13656338.011 5707109.209)  \n611118  POINT (-13654891.792 5703355.658)  \n611303  POINT (-13650636.415 5702482.440)  \n\n[186 rows x 6 columns]",
      "text/html": "<div>\n<style scoped>\n    .dataframe tbody tr th:only-of-type {\n        vertical-align: middle;\n    }\n\n    .dataframe tbody tr th {\n        vertical-align: top;\n    }\n\n    .dataframe thead th {\n        text-align: right;\n    }\n</style>\n<table border=\"1\" class=\"dataframe\">\n  <thead>\n    <tr style=\"text-align: right;\">\n      <th></th>\n      <th>station_name</th>\n      <th>latitude</th>\n      <th>longitude</th>\n      <th>month</th>\n      <th>year</th>\n      <th>geometry</th>\n    </tr>\n  </thead>\n  <tbody>\n    <tr>\n      <th>0</th>\n      <td>SE 30th at Division</td>\n      <td>45.504689</td>\n      <td>-122.634555</td>\n      <td>11</td>\n      <td>19</td>\n      <td>POINT (-13651616.227 5701327.465)</td>\n    </tr>\n    <tr>\n      <th>1</th>\n      <td>NaN</td>\n      <td>45.510808</td>\n      <td>-122.658733</td>\n      <td>11</td>\n      <td>19</td>\n      <td>POINT (-13654307.743 5702299.456)</td>\n    </tr>\n    <tr>\n      <th>3</th>\n      <td>SW 12th at Clay</td>\n      <td>45.515074</td>\n      <td>-122.687030</td>\n      <td>11</td>\n      <td>19</td>\n      <td>POINT (-13657457.684 5702977.130)</td>\n    </tr>\n    <tr>\n      <th>4</th>\n      <td>NE Broadway at 12th</td>\n      <td>45.534969</td>\n      <td>-122.653631</td>\n      <td>11</td>\n      <td>19</td>\n      <td>POINT (-13653739.747 5706138.220)</td>\n    </tr>\n    <tr>\n      <th>8</th>\n      <td>N Mason at Williams</td>\n      <td>45.553353</td>\n      <td>-122.666915</td>\n      <td>11</td>\n      <td>19</td>\n      <td>POINT (-13655218.470 5709060.377)</td>\n    </tr>\n    <tr>\n      <th>...</th>\n      <td>...</td>\n      <td>...</td>\n      <td>...</td>\n      <td>...</td>\n      <td>...</td>\n      <td>...</td>\n    </tr>\n    <tr>\n      <th>609796</th>\n      <td>SE Taylor at Chavez</td>\n      <td>45.514975</td>\n      <td>-122.623157</td>\n      <td>1</td>\n      <td>18</td>\n      <td>POINT (-13650347.397 5702961.401)</td>\n    </tr>\n    <tr>\n      <th>611839</th>\n      <td>NW Savier at 23rd - Disabled</td>\n      <td>45.534777</td>\n      <td>-122.698872</td>\n      <td>1</td>\n      <td>18</td>\n      <td>POINT (-13658775.919 5706107.724)</td>\n    </tr>\n    <tr>\n      <th>612260</th>\n      <td>N Russell at Interstate</td>\n      <td>45.541078</td>\n      <td>-122.676972</td>\n      <td>1</td>\n      <td>18</td>\n      <td>POINT (-13656338.011 5707109.209)</td>\n    </tr>\n    <tr>\n      <th>611118</th>\n      <td>Portland Night Market</td>\n      <td>45.517457</td>\n      <td>-122.663980</td>\n      <td>1</td>\n      <td>18</td>\n      <td>POINT (-13654891.792 5703355.658)</td>\n    </tr>\n    <tr>\n      <th>611303</th>\n      <td>SE 37th at Hawthorne - Disabled</td>\n      <td>45.511960</td>\n      <td>-122.625753</td>\n      <td>1</td>\n      <td>18</td>\n      <td>POINT (-13650636.415 5702482.440)</td>\n    </tr>\n  </tbody>\n</table>\n<p>186 rows × 6 columns</p>\n</div>"
     },
     "execution_count": 50,
     "metadata": {},
     "output_type": "execute_result"
    }
   ],
   "source": [
    "stations_portland_nan = stations_portland_nan.drop_duplicates(subset=['station_name'])"
   ],
   "metadata": {
    "collapsed": false,
    "ExecuteTime": {
     "end_time": "2024-12-11T09:34:51.713063Z",
     "start_time": "2024-12-11T09:34:51.686594Z"
    }
   },
   "id": "9b8837eaa5239d03"
  },
  {
   "cell_type": "code",
   "execution_count": 51,
   "outputs": [],
   "source": [
    "stations_portland = stations_portland_nan.dropna(subset=['station_name'])"
   ],
   "metadata": {
    "collapsed": false,
    "ExecuteTime": {
     "end_time": "2024-12-11T09:35:25.201469Z",
     "start_time": "2024-12-11T09:35:25.172769Z"
    }
   },
   "id": "b807953dfa76a4ec"
  },
  {
   "cell_type": "code",
   "execution_count": 52,
   "outputs": [
    {
     "data": {
      "text/plain": "(185, 6)"
     },
     "execution_count": 52,
     "metadata": {},
     "output_type": "execute_result"
    }
   ],
   "source": [
    "stations_portland.shape"
   ],
   "metadata": {
    "collapsed": false,
    "ExecuteTime": {
     "end_time": "2024-12-11T09:35:34.143530Z",
     "start_time": "2024-12-11T09:35:34.111901Z"
    }
   },
   "id": "18ddf84f05fe710e"
  },
  {
   "cell_type": "code",
   "execution_count": 53,
   "outputs": [
    {
     "data": {
      "text/plain": "(723744, 11)"
     },
     "execution_count": 53,
     "metadata": {},
     "output_type": "execute_result"
    }
   ],
   "source": [
    "rides_portland_nan.shape"
   ],
   "metadata": {
    "collapsed": false,
    "ExecuteTime": {
     "end_time": "2024-12-11T09:37:16.992050Z",
     "start_time": "2024-12-11T09:37:16.961743Z"
    }
   },
   "id": "739b1944446de34d"
  },
  {
   "cell_type": "code",
   "execution_count": 67,
   "outputs": [],
   "source": [
    "rides_portland = rides_portland_nan.dropna(subset=['start_station_name'])\n",
    "rides_portland_end = rides_portland_nan.dropna(subset=['end_station_name'])"
   ],
   "metadata": {
    "collapsed": false,
    "ExecuteTime": {
     "end_time": "2024-12-11T10:08:45.957149Z",
     "start_time": "2024-12-11T10:08:45.826937Z"
    }
   },
   "id": "56bd9955bfb73da7"
  },
  {
   "cell_type": "code",
   "execution_count": 68,
   "outputs": [
    {
     "data": {
      "text/plain": "(454390, 11)"
     },
     "execution_count": 68,
     "metadata": {},
     "output_type": "execute_result"
    }
   ],
   "source": [
    "rides_portland.shape"
   ],
   "metadata": {
    "collapsed": false,
    "ExecuteTime": {
     "end_time": "2024-12-11T10:08:47.220937Z",
     "start_time": "2024-12-11T10:08:47.217544Z"
    }
   },
   "id": "facd905b2e22c222"
  },
  {
   "cell_type": "code",
   "execution_count": 104,
   "outputs": [],
   "source": [
    "rides_portland = rides_portland_nan.dropna(thresh=10)"
   ],
   "metadata": {
    "collapsed": false,
    "ExecuteTime": {
     "end_time": "2024-12-11T10:23:56.163321Z",
     "start_time": "2024-12-11T10:23:56.005630Z"
    }
   },
   "id": "d587362c98300c79"
  },
  {
   "cell_type": "code",
   "execution_count": 105,
   "outputs": [
    {
     "data": {
      "text/plain": "(512854, 11)"
     },
     "execution_count": 105,
     "metadata": {},
     "output_type": "execute_result"
    }
   ],
   "source": [
    "rides_portland.shape"
   ],
   "metadata": {
    "collapsed": false,
    "ExecuteTime": {
     "end_time": "2024-12-11T10:23:56.485285Z",
     "start_time": "2024-12-11T10:23:56.481926Z"
    }
   },
   "id": "32023202f325bcda"
  },
  {
   "cell_type": "code",
   "execution_count": 113,
   "outputs": [],
   "source": [
    "rides_portland = rides_portland_nan.drop(rides_portland_nan.query(\"start_station_name.isna() & end_station_name.isna()\").index, axis = 0)"
   ],
   "metadata": {
    "collapsed": false,
    "ExecuteTime": {
     "end_time": "2024-12-11T10:37:10.425089Z",
     "start_time": "2024-12-11T10:37:10.296311Z"
    }
   },
   "id": "5c6a563fde42f3cb"
  },
  {
   "cell_type": "code",
   "execution_count": 114,
   "outputs": [
    {
     "data": {
      "text/plain": "(611313, 11)"
     },
     "execution_count": 114,
     "metadata": {},
     "output_type": "execute_result"
    }
   ],
   "source": [
    "rides_portland.shape"
   ],
   "metadata": {
    "collapsed": false,
    "ExecuteTime": {
     "end_time": "2024-12-11T10:37:16.469700Z",
     "start_time": "2024-12-11T10:37:16.438297Z"
    }
   },
   "id": "b12b5bb1400e5180"
  }
 ],
 "metadata": {
  "kernelspec": {
   "display_name": "Python 3",
   "language": "python",
   "name": "python3"
  },
  "language_info": {
   "codemirror_mode": {
    "name": "ipython",
    "version": 2
   },
   "file_extension": ".py",
   "mimetype": "text/x-python",
   "name": "python",
   "nbconvert_exporter": "python",
   "pygments_lexer": "ipython2",
   "version": "2.7.6"
  }
 },
 "nbformat": 4,
 "nbformat_minor": 5
}
