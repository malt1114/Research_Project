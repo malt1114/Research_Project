{
 "cells": [
  {
   "cell_type": "code",
   "execution_count": 98,
   "metadata": {},
   "outputs": [],
   "source": [
    "import selenium as se\n",
    "from selenium import webdriver\n",
    "from selenium.webdriver.common.keys import Keys\n",
    "from selenium.webdriver.common.by import By\n",
    "from selenium.webdriver.common.action_chains import ActionChains\n",
    "from selenium.webdriver.support.ui import WebDriverWait\n",
    "from selenium.webdriver.support import expected_conditions as EC\n",
    "import time\n",
    "import lxml\n",
    "\n",
    "# import clear_output from IPython.display\n",
    "from IPython.display import clear_output"
   ]
  },
  {
   "cell_type": "code",
   "execution_count": 99,
   "metadata": {},
   "outputs": [],
   "source": [
    "square_name = 'col-span-2 mt-16 flex justify-between sm:mt-4 sm:block space-x-12 font-bold whitespace-nowrap'\n",
    "square = soup.find_all('div', class_=square_name)"
   ]
  },
  {
   "cell_type": "code",
   "execution_count": 100,
   "metadata": {},
   "outputs": [],
   "source": [
    "from selenium import webdriver\n",
    "from selenium.webdriver.common.by import By\n",
    "from selenium.webdriver.support.ui import WebDriverWait\n",
    "from selenium.webdriver.support import expected_conditions as EC\n",
    "import time\n",
    "from bs4 import BeautifulSoup as bs\n",
    "\n",
    "oslo = 'https://www.finn.no/realestate/homes/search.html?location=0.20061'\n",
    "bergen = 'https://www.finn.no/realestate/homes/search.html?geoLocationName=Bergen&lat=60.39358&location=2.22046.20220.20537&location=2.22046.20220.20465&location=2.22046.20220.20473&location=2.22046.20220.20479&location=2.22046.20220.20475&location=2.22046.20220.20471&location=2.22046.20220.20470&lon=5.32479&radius=30000'\n",
    "trondheim = 'https://www.finn.no/realestate/homes/search.html?location=1.20016.20318'\n",
    "oslo_page_number = 3532//50\n",
    "bergen_page_number = 1171//50\n",
    "trondheim_page_number = 2434//50\n",
    "\n",
    "def reaalstate(city_url, page_number):\n",
    "    prices = []\n",
    "    adresses = []\n",
    "    sqm = []\n",
    "\n",
    "    driver = webdriver.Firefox()\n",
    "    driver.maximize_window()\n",
    "\n",
    "    for i in range(1, page_number+1):\n",
    "\n",
    "        # clear print output\n",
    "        clear_output(wait=True)\n",
    "\n",
    "        url = f'{city_url}&page={i}'\n",
    "        session = driver.get(url)\n",
    "        soup = bs(driver.page_source, 'lxml')\n",
    "\n",
    "        square_name = 'col-span-2 mt-16 flex justify-between sm:mt-4 sm:block space-x-12 font-bold whitespace-nowrap'\n",
    "        square = soup.find_all('div', class_=square_name)\n",
    "        adress_name = 'mt-4 sf-line-clamp-2 sm:order-first sm:text-right sm:mt-0 sm:ml-16 sf-realestate-location'\n",
    "        adress = soup.find_all('div', class_=adress_name)\n",
    "        price_name = 'col-span-2 sm:flex sm:items-baseline sm:justify-between'\n",
    "        price = soup.find_all('div', class_=price_name)\n",
    "\n",
    "        print(len(square), len(adress), len(price))\n",
    "\n",
    "\n",
    "        for idx, i in enumerate(square):\n",
    "            sqm.append(i.text.strip().split('m')[0])\n",
    "            print(idx, i.text.strip().split('m'))\n",
    "\n",
    "        while len(adress) > len(square):\n",
    "            adress = adress[1:]\n",
    "            print(len(adress))\n",
    "\n",
    "        for idx, i in enumerate(adress):\n",
    "            adresses.append(i.text)\n",
    "            print(idx, i.text)\n",
    "\n",
    "        while len(price) > len(square):\n",
    "            price = price[1:]\n",
    "        for idx, i in enumerate(price):\n",
    "            prices.append(i.text.strip().split('kr')[0])\n",
    "            print(idx, i.text.strip().split('kr')[0])\n",
    "\n",
    "\n",
    "        print(len(prices), len(adresses), len(sqm))\n",
    "        assert len(prices) == len(adresses) == len(sqm)\n",
    "        time.sleep(3)\n",
    "\n",
    "    driver.quit()\n",
    "\n",
    "    return prices, adresses, sqm"
   ]
  },
  {
   "cell_type": "code",
   "execution_count": 101,
   "metadata": {},
   "outputs": [
    {
     "name": "stdout",
     "output_type": "stream",
     "text": [
      "0 0 0\n",
      "703 703 703\n"
     ]
    }
   ],
   "source": [
    "prices_oslo, adresses_oslo, sqm_oslo = reaalstate(oslo, oslo_page_number)\n",
    "prices_bergen, adresses_bergen, sqm_bergen = reaalstate(bergen, bergen_page_number)"
   ]
  },
  {
   "cell_type": "code",
   "execution_count": 102,
   "metadata": {},
   "outputs": [
    {
     "name": "stdout",
     "output_type": "stream",
     "text": [
      "0 0 0\n",
      "1290 1290 1290\n"
     ]
    }
   ],
   "source": [
    "prices_trondheim, adresses_trondheim, sqm_trondheim = reaalstate(trondheim, trondheim_page_number)"
   ]
  },
  {
   "cell_type": "code",
   "execution_count": 103,
   "metadata": {},
   "outputs": [],
   "source": [
    "import pandas as pd\n",
    "bergen = pd.DataFrame({'prices': prices_bergen, 'adresses': adresses_bergen, 'sqm' : sqm_bergen,  'city': 'Bergen'})\n",
    "oslo = pd.DataFrame({'prices': prices_oslo, 'adresses': adresses_oslo, 'sqm' : sqm_oslo, 'city': 'Oslo'})\n",
    "trondheim = pd.DataFrame({'prices': prices_trondheim, 'adresses': adresses_trondheim, 'sqm' : sqm_trondheim, 'city': 'Trondheim'})\n",
    "\n",
    "\n",
    "df = pd.concat([bergen, oslo, trondheim])\n",
    "\n",
    "df.to_csv('../data/realestate.csv', index=False)"
   ]
  },
  {
   "cell_type": "code",
   "execution_count": 104,
   "metadata": {},
   "outputs": [
    {
     "data": {
      "text/plain": [
       "1290"
      ]
     },
     "execution_count": 104,
     "metadata": {},
     "output_type": "execute_result"
    }
   ],
   "source": [
    "len(sqm_trondheim)"
   ]
  },
  {
   "cell_type": "code",
   "execution_count": 105,
   "metadata": {},
   "outputs": [
    {
     "data": {
      "text/plain": [
       "1290"
      ]
     },
     "execution_count": 105,
     "metadata": {},
     "output_type": "execute_result"
    }
   ],
   "source": [
    "len(prices_trondheim)"
   ]
  },
  {
   "cell_type": "code",
   "execution_count": null,
   "metadata": {},
   "outputs": [],
   "source": []
  }
 ],
 "metadata": {
  "kernelspec": {
   "display_name": ".venv",
   "language": "python",
   "name": "python3"
  },
  "language_info": {
   "codemirror_mode": {
    "name": "ipython",
    "version": 3
   },
   "file_extension": ".py",
   "mimetype": "text/x-python",
   "name": "python",
   "nbconvert_exporter": "python",
   "pygments_lexer": "ipython3",
   "version": "3.10.2"
  }
 },
 "nbformat": 4,
 "nbformat_minor": 2
}
